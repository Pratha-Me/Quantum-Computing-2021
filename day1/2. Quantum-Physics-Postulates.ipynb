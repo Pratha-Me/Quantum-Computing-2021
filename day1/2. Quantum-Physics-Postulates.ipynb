{
 "cells": [
  {
   "cell_type": "markdown",
   "metadata": {},
   "source": [
    "# Introduction to Quantum Physics"
   ]
  },
  {
   "cell_type": "markdown",
   "metadata": {},
   "source": [
    "### Postulates of Quantum Mechanics"
   ]
  },
  {
   "cell_type": "markdown",
   "metadata": {},
   "source": [
    "**I - Quantum State**\n",
    "\n",
    "- The state of a quantum mechanical system is completely specified by a state vector $|\\psi \\rangle $. \n",
    "- There are infinite dimentions in the vector space called Hilbert space.\n",
    "\n",
    "\n",
    "$|\\psi \\rangle = c_1 |\\psi_1 \\rangle  + c_2 |\\psi_2 \\rangle + ...$\n",
    "\n",
    "<img src=\"https://qph.fs.quoracdn.net/main-qimg-5b7d88d95d440f4b03bb85b5be328396\" alt=\"Drawing\" style=\"width: 500px; height 500px;\"/>\n",
    "\n",
    "<img src=\"https://i.pinimg.com/originals/ee/a0/4b/eea04bd0334cb469609ed8e068178b0e.jpg\" alt=\"Drawing\" style=\"width: 500px; height 500px;\"/>\n",
    "\n",
    "- System representation: coordinate representation, momentum representation etc. and Unitary transformation.\n",
    "\n",
    "  - Wave Function in position representation:  $\\psi(x) = \\langle x | \\psi \\rangle $\n",
    "  - Wave Function in momentum representation:  $\\psi(p) = \\langle p | \\psi \\rangle $\n",
    "  - Transformation from position to momentum representation is a Fourier transform (Unitary Transformation)\n"
   ]
  },
  {
   "cell_type": "markdown",
   "metadata": {},
   "source": [
    "--------------"
   ]
  },
  {
   "cell_type": "markdown",
   "metadata": {},
   "source": [
    "**II - Operators**\n",
    "\n",
    "- To every observable in classical mechanics there corresponds a linear, Hermitian operator in quantum mechanics. \n",
    "- Unitary Transformation acts as basis transformation.\n",
    "\n",
    "$X|\\psi \\rangle = x |\\psi \\rangle$\n",
    "\n",
    "$P|\\psi \\rangle = p |\\psi \\rangle$\n",
    "\n",
    "$H|\\psi \\rangle = E |\\psi \\rangle$\n",
    "\n",
    "- Translation (space, time), rotation operations are Unitary operations, while generators of such operator group are hermitian operators e.g., linear momentum operator for translation, angular momentum operator for rotation.\n",
    "\n",
    "![](https://lh3.googleusercontent.com/proxy/YnuYfCYKEziMQXjfSfE87kw4C4NQSICeeHMBv2SS4mkWwu9l9CiC7Ge-7PJSuf4fMPP3I6AID_fGoIpgN0wGLdiSM46IBhf7IZRl57b-k2LbGj7qWVKpFnndCPo)"
   ]
  },
  {
   "cell_type": "markdown",
   "metadata": {},
   "source": [
    "-------------------"
   ]
  },
  {
   "cell_type": "markdown",
   "metadata": {},
   "source": [
    "\n",
    "**III - Structure and Dynamics**\n",
    "\n",
    "- The wavefunction or state function of the time independent part of Schrodinger Equation describes structure of the system. For example: H-atom, Harmonic Oscillator, Particle in potential well etc.\n",
    "\n",
    "$H |\\psi\\rangle  = E |\\psi\\rangle $\n",
    "\n",
    "- The wavefunction or state function of a system evolves in time according to the time-dependent Schrödinger equation. \n",
    "\n",
    "![](https://qph.fs.quoracdn.net/main-qimg-701a3d6c3173372ca12398ce494b97e7)\n",
    "\n",
    "\n",
    "<img src=\"https://slidetodoc.com/presentation_image_h/3695643429a072255fb5159ef546724e/image-33.jpg\" alt=\"Drawing\" style=\"width: 500px; height 500px;\"/>\n"
   ]
  },
  {
   "cell_type": "markdown",
   "metadata": {},
   "source": [
    "<img src=\"https://upload.wikimedia.org/wikipedia/commons/b/ba/Spherical_Harmonics_deg5.png\" alt=\"Drawing\" style=\"width: 500px; height 500px;\"/>"
   ]
  },
  {
   "cell_type": "markdown",
   "metadata": {},
   "source": [
    "----------------"
   ]
  },
  {
   "cell_type": "markdown",
   "metadata": {},
   "source": [
    "### Hamiltonian of the System and Time Evolution"
   ]
  },
  {
   "cell_type": "markdown",
   "metadata": {},
   "source": [
    "<img src=\"https://miro.medium.com/max/790/1*Jzeyokev1voecPbx_gdJXg@2x.png\" alt=\"Drawing\" style=\"width: 200px; height 200px;\"/>"
   ]
  },
  {
   "cell_type": "markdown",
   "metadata": {},
   "source": [
    "\n",
    "<img src=\"https://miro.medium.com/max/1016/1*bupc_zDBvvA0jWG0GTejng@2x.png\" alt=\"Drawing\" style=\"width: 300px; height 300px;\"/>"
   ]
  },
  {
   "cell_type": "markdown",
   "metadata": {},
   "source": [
    "<img src=\"http://4.bp.blogspot.com/-ipXT9tY1mc0/TbrzurmlArI/AAAAAAAAAD4/j6dwKNcLsVM/s1600/1.gif\" alt=\"Drawing\" style=\"width: 300px; height 300px;\"/>"
   ]
  },
  {
   "cell_type": "code",
   "execution_count": null,
   "metadata": {},
   "outputs": [],
   "source": []
  }
 ],
 "metadata": {
  "kernelspec": {
   "display_name": "Python 3",
   "language": "python",
   "name": "python3"
  },
  "language_info": {
   "codemirror_mode": {
    "name": "ipython",
    "version": 3
   },
   "file_extension": ".py",
   "mimetype": "text/x-python",
   "name": "python",
   "nbconvert_exporter": "python",
   "pygments_lexer": "ipython3",
   "version": "3.6.6"
  }
 },
 "nbformat": 4,
 "nbformat_minor": 2
}
