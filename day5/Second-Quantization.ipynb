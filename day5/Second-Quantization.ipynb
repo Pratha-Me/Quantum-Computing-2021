{
 "cells": [
  {
   "cell_type": "markdown",
   "metadata": {},
   "source": [
    "# Advanced  Quantum Physics "
   ]
  },
  {
   "cell_type": "markdown",
   "metadata": {},
   "source": [
    "<img src=\"https://physicstravelguide.com/_media/history.jpg?w=1277&tok=99029e\" alt=\"Drawing\" style=\"width: 700px; height 500px;\"/>\n",
    "\n",
    "Source: http://pcteserver.mi.infn.it/~nnpdf/TUDelft/IntroElementaryParticles-LectureNotes.pdf"
   ]
  },
  {
   "cell_type": "markdown",
   "metadata": {},
   "source": [
    "### Quantum Physics Advancement"
   ]
  },
  {
   "cell_type": "markdown",
   "metadata": {},
   "source": [
    "|  Quantum Physics | Advanced Quantum Physics  |  Quantum Field Theories |  \n",
    "|---:|:---:|:---|\n",
    "|First Quantization | Second Quantization (Fermion and Boson)  | Second Quantization, Relativity  | \n",
    "|Schrodinger Equation | Hamiltonian ($a, a^{\\dagger}$)  | Hamiltonian, Lagrangian, Action, Path Integral  |  \n",
    "|Quantum State $|\\psi \\rangle $ and  Wave Functions $\\psi(x), \\psi(p)$ | Occupation number space, Fock space  | Fermion and Boson Filed Operators, Feynman Diagrams | \n",
    "|Number of particle is fixed. Hilbert space| Number of particle is fixed| Infinite degrees of freedom. Number of particles is not fixed|\n",
    "|There is H hamiltonian and Time evolution | There is Hamiltonian of composite system and time evolution| There is creation and annihilation of particles (Field interaction)- Field + Field Interaction|\n",
    "|Example: H-atom, Harmonic oscillator, Particle in Box | Example: Free electron theory, Super conductivity, Quantum Chemistry (N-body problem) | Example: Quantum Electrodynamics, Quantum Chromodynamics, Weak Interaction, Standard Model |"
   ]
  },
  {
   "cell_type": "markdown",
   "metadata": {},
   "source": [
    "### What is second quantization?"
   ]
  },
  {
   "cell_type": "markdown",
   "metadata": {},
   "source": [
    "**First quantization solves single particle system. It becomes increasingly difficult to use Schrodinger wave equation to solve multi-particle system. Instead we conside occupation space representation**\n",
    "\n",
    "Second quantization, also referred to as occupation number representation, is a formalism used to describe and analyze quantum many-body systems. \n",
    "\n",
    "Second quantization is the basic algorithm for the construction of Quantum Mechanics of assemblies of identical particles. It is an essential algorithm in the non-relativistic systems where the number of particles is fixed, however too large for the use of Schrödinger’s wave function representation, and in the relativistic case, field theory, where the number of degrees of freedom is infinite since particles are produced and absorbed. We present the algorithm clarifying its mathematical content in both non-relativistic and field theory frameworks.\n",
    "\n",
    "1. Creation ($a$)\n",
    "2. Propagation Matrix  \n",
    "3. Annihilation ($a^{\\dagger}$) \n",
    "\n",
    "\n",
    "<img src=\"https://upload.wikimedia.org/wikipedia/commons/thumb/1/1a/Feynman-photon-to-electron-positron-decay.svg/1200px-Feynman-photon-to-electron-positron-decay.svg.png\" alt=\"Drawing\" style=\"width: 200px; height 200px;\"/>\n",
    "\n",
    "Source: Wikipedia and Scholarpedia"
   ]
  },
  {
   "cell_type": "markdown",
   "metadata": {},
   "source": [
    "# Who want the stability?\n",
    "\n",
    "- Principle of least action - Feynman Inegral Method!"
   ]
  },
  {
   "cell_type": "markdown",
   "metadata": {},
   "source": [
    "### What are Fermions and Bosons?"
   ]
  },
  {
   "cell_type": "markdown",
   "metadata": {},
   "source": [
    "<img src=\"https://argoncube.org/images/neutrinos/StandardModel.png\" alt=\"Drawing\" style=\"width: 500px; height 500px;\"/>\n",
    "\n",
    "source: https://argoncube.org/neutrinos.html\n",
    "\n",
    "***Particle gets charge, mass, spin, flavor, color by birth!***"
   ]
  },
  {
   "cell_type": "markdown",
   "metadata": {},
   "source": [
    "** What is Nucleosynthesis?**\n",
    "\n",
    "<img src=\"https://www.phy.ornl.gov/images/astro/explosive_gen_BIG.jpg\" alt=\"Drawing\" style=\"width: 500px; height 500px;\"/>\n",
    "\n",
    "source: https://www.phy.ornl.gov/groups/astro/nucleosynthesis/explosive.html"
   ]
  },
  {
   "cell_type": "markdown",
   "metadata": {},
   "source": [
    "** What is Atomic Spectra? **\n",
    "\n",
    "<img src=\"https://www.api.simply.science/images/content/chemistry/structure_of_matter/quantum_theory/conceptmap/Atomic_spectra_8.jpg\" alt=\"Drawing\" style=\"width: 500px; height 500px;\"/>\n",
    "\n",
    "Source: https://www.api.simply.science/"
   ]
  },
  {
   "cell_type": "markdown",
   "metadata": {},
   "source": [
    "** What is chemical Reaction?**\n",
    "\n",
    "![](https://d2vlcm61l7u1fs.cloudfront.net/media%2Ff63%2Ff631457d-f430-46d2-8c6c-52d50770b7c3%2FphphRGtuZ.png)\n",
    "    \n",
    "source: https://www.chegg.com/"
   ]
  },
  {
   "cell_type": "markdown",
   "metadata": {},
   "source": [
    "### What is microwave background radiation?"
   ]
  },
  {
   "cell_type": "markdown",
   "metadata": {},
   "source": [
    "<img src=\"https://upload.wikimedia.org/wikipedia/commons/thumb/3/3c/Ilc_9yr_moll4096.png/1200px-Ilc_9yr_moll4096.png\" alt=\"Drawing\" style=\"width: 500px; height 500px;\"/>"
   ]
  },
  {
   "cell_type": "markdown",
   "metadata": {},
   "source": [
    "### Quantum Chemistry\n",
    "\n",
    "Detour: https://qiskit.org/documentation/nature/tutorials/01_electronic_structure.html\n",
    "\n",
    "The molecular Hamiltonian is"
   ]
  },
  {
   "cell_type": "markdown",
   "metadata": {},
   "source": [
    "$$\n",
    "\\mathcal{H} = - \\sum_I \\frac{\\nabla_{R_I}^2}{M_I} - \\sum_i \\frac{\\nabla_{r_i}^2}{m_e} - \\sum_I\\sum_i  \\frac{Z_I e^2}{|R_I-r_i|} + \\sum_i \\sum_{j>i} \\frac{e^2}{|r_i-r_j|} + \\sum_I\\sum_{J>I} \\frac{Z_I Z_J e^2}{|R_I-R_J|}\n",
    "$$"
   ]
  },
  {
   "cell_type": "markdown",
   "metadata": {},
   "source": [
    "After Introducing second quantization:\n",
    "    \n",
    "$$\n",
    "\\hat{H}_{elec}=\\sum_{pq} h_{pq} \\hat{a}^{\\dagger}_p \\hat{a}_q +\n",
    "\\frac{1}{2} \\sum_{pqrs} h_{pqrs}  \\hat{a}^{\\dagger}_p \\hat{a}^{\\dagger}_q \\hat{a}_r  \\hat{a}_s\n",
    "$$"
   ]
  },
  {
   "cell_type": "markdown",
   "metadata": {},
   "source": [
    "Classical Solution: Hartree-Fock"
   ]
  },
  {
   "cell_type": "markdown",
   "metadata": {},
   "source": [
    "#### Fermion to Qubit Mapping"
   ]
  },
  {
   "cell_type": "code",
   "execution_count": 3,
   "metadata": {},
   "outputs": [
    {
     "data": {
      "image/jpeg": "[encoded data removed]",
      "text/html": [
       "\n",
       "        <iframe\n",
       "            width=\"800\"\n",
       "            height=\"500\"\n",
       "            src=\"https://www.youtube.com/embed/W8SW3qp3RzY\"\n",
       "            frameborder=\"0\"\n",
       "            allowfullscreen\n",
       "        ></iframe>\n",
       "        "
      ],
      "text/plain": [
       "<IPython.lib.display.YouTubeVideo at 0x7f4bfdb25da0>"
      ]
     },
     "execution_count": 3,
     "metadata": {},
     "output_type": "execute_result"
    }
   ],
   "source": [
    "from IPython.display import YouTubeVideo\n",
    "YouTubeVideo('W8SW3qp3RzY', width=800, height=500)"
   ]
  },
  {
   "cell_type": "markdown",
   "metadata": {},
   "source": [
    "### Is lepton-quark(flavor) computer or quark(color) computer possible?"
   ]
  },
  {
   "cell_type": "markdown",
   "metadata": {},
   "source": [
    "- Clasical computer is a charge computer.\n",
    "- Quantum Computer is spin computer.\n",
    "- Quark does not move in the wire!\n",
    "- Flavor changes in the nucleus! Burning stars!"
   ]
  },
  {
   "cell_type": "code",
   "execution_count": null,
   "metadata": {},
   "outputs": [],
   "source": []
  },
  {
   "cell_type": "code",
   "execution_count": null,
   "metadata": {},
   "outputs": [],
   "source": []
  }
 ],
 "metadata": {
  "kernelspec": {
   "display_name": "Python 3",
   "language": "python",
   "name": "python3"
  },
  "language_info": {
   "codemirror_mode": {
    "name": "ipython",
    "version": 3
   },
   "file_extension": ".py",
   "mimetype": "text/x-python",
   "name": "python",
   "nbconvert_exporter": "python",
   "pygments_lexer": "ipython3",
   "version": "3.6.6"
  }
 },
 "nbformat": 4,
 "nbformat_minor": 2
}
