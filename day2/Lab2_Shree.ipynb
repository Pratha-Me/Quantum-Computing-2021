{
 "cells": [
  {
   "cell_type": "markdown",
   "id": "perfect-hurricane",
   "metadata": {},
   "source": [
    "# Two qubit quantum states & gates, Multi qubit system generalization"
   ]
  },
  {
   "cell_type": "code",
   "execution_count": 1,
   "id": "sealed-anime",
   "metadata": {},
   "outputs": [
    {
     "data": {
      "text/plain": [
       "'0.17.4'"
      ]
     },
     "execution_count": 1,
     "metadata": {},
     "output_type": "execute_result"
    }
   ],
   "source": [
    "import qiskit\n",
    "qiskit.__version__"
   ]
  },
  {
   "cell_type": "code",
   "execution_count": 2,
   "id": "prepared-writing",
   "metadata": {},
   "outputs": [],
   "source": [
    "import matplotlib.pyplot as plt\n",
    "import numpy as np"
   ]
  },
  {
   "cell_type": "code",
   "execution_count": 3,
   "id": "accredited-blind",
   "metadata": {},
   "outputs": [],
   "source": [
    "# Importing standard Qiskit libraries and configuring account\n",
    "from qiskit import QuantumCircuit, execute, Aer, IBMQ,QuantumRegister,ClassicalRegister\n",
    "from qiskit.compiler import transpile, assemble\n",
    "from qiskit_textbook.tools import array_to_latex\n",
    "from IPython.display import Image\n",
    "#Inorder to get exact visulization of Quntum circuit execution, results, etc\n",
    "from qiskit.visualization import plot_bloch_multivector,plot_state_qsphere,plot_histogram"
   ]
  },
  {
   "cell_type": "markdown",
   "id": "relevant-helena",
   "metadata": {},
   "source": [
    "# What quantum mechanics is there in quantum computing that I must remember?"
   ]
  },
  {
   "cell_type": "raw",
   "id": "local-purchase",
   "metadata": {},
   "source": [
    "1. The wave function ψ to denote an electron (or qubit) lives in Hilbert Space. \n",
    "2. The act of measuring ψ collapses the quantum state to classical state. \n",
    "3. In quantum computing everything is spoken in terms of probability.\n",
    "Since the system is probabilistic, one measurement is not enough to say anything with certainty. I will talk about it later in the notebook. "
   ]
  },
  {
   "cell_type": "raw",
   "id": "celtic-caution",
   "metadata": {},
   "source": [
    "4. |0> and |1> are orthonormal basis vectors. That is, a dot product (<0|0>)=1 and (<0|1>)=0. \n",
    "5. The other orthonormal basis vectors we will be using frequently are |+> and |->.\n",
    "6. H|0>=|+> and H|1> = |->"
   ]
  },
  {
   "cell_type": "raw",
   "id": "lucky-frederick",
   "metadata": {},
   "source": [
    "Difference between bits and qubits:\n",
    "\n",
    "1) In classical computer information can be saved as bits which can either be 0 or 1. \n",
    "However in quantum computer, any qubit can be raised to superposition state where it can stay as combination\n",
    "of 0 and 1(superposition),as long as they are not measured. When measured it 'collapses' into one of the basis states. \n",
    "\n",
    "What does this mean?\n",
    "-> A classical one bit register can store only one bit, either 0 or 1.\n",
    "-> A quantum one bit register can store two bits, 0 and 1, until it is measure.\n",
    "Thus, for a 3 bit classical computer, it can store one possibility, whereas the equivalent quantum computer can store all possible combination of 3 bits, ie, 2^3 = 8 bits. (Of course, until they are measured). \n",
    "This is the reason why qubits are gaining attraction.\n",
    "\n",
    "\n",
    "2) In classical computing, a 0/1 bit is equivalent to On/OFF switch. There is no other possibility. \n",
    "In quantum computing, a qubit is ON/OFF/(ON and OFF)! \n",
    "|ψ> = α|0> + β|1>\n",
    "    (\\alpha^2 + \\beta^2)=1\n"
   ]
  },
  {
   "cell_type": "code",
   "execution_count": 4,
   "id": "great-catering",
   "metadata": {},
   "outputs": [
    {
     "data": {
      "text/html": [
       "<img src=\"drWvi.png\" width=\"700\" height=\"400\"/>"
      ],
      "text/plain": [
       "<IPython.core.display.Image object>"
      ]
     },
     "execution_count": 4,
     "metadata": {},
     "output_type": "execute_result"
    }
   ],
   "source": [
    "#So how is a qubit created?\n",
    "Image(url= \"drWvi.png\", width=700, height=400)"
   ]
  },
  {
   "cell_type": "code",
   "execution_count": 5,
   "id": "possible-madonna",
   "metadata": {},
   "outputs": [
    {
     "data": {
      "text/html": [
       "<img src=\"R.png\" width=\"400\" height=\"200\"/>"
      ],
      "text/plain": [
       "<IPython.core.display.Image object>"
      ]
     },
     "execution_count": 5,
     "metadata": {},
     "output_type": "execute_result"
    }
   ],
   "source": [
    "#Anharmonic Oscillator (Joshephen Junction)\n",
    "Image(url= \"R.png\", width=400, height=200)"
   ]
  },
  {
   "cell_type": "markdown",
   "id": "coordinated-shame",
   "metadata": {},
   "source": [
    "## Revise single qubit \n"
   ]
  },
  {
   "cell_type": "raw",
   "id": "chemical-battlefield",
   "metadata": {},
   "source": [
    "qc.x(0)    # rotation by Pi around the x-axis\n",
    "qc.y(0)    # rotation by Pi around the y-axis\n",
    "qc.z(0)    # rotation by Pi around the z-axis\n",
    "qc.s(0)    # rotation by Pi/2 around the z-axis\n",
    "qc.sdg(0)  # rotation by -Pi/2 around the z-axis\n",
    "qc.h(0)    # rotation by Pi around an axis located halfway between x and z"
   ]
  },
  {
   "cell_type": "code",
   "execution_count": 6,
   "id": "global-variation",
   "metadata": {},
   "outputs": [
    {
     "data": {
      "application/vnd.jupyter.widget-view+json": {
       "model_id": "a86462a793a7421dac6a8a742864313a",
       "version_major": 2,
       "version_minor": 0
      },
      "text/plain": [
       "VBox(children=(HBox(children=(Button(description='I', layout=Layout(height='3em', width='3em'), style=ButtonSt…"
      ]
     },
     "metadata": {},
     "output_type": "display_data"
    },
    {
     "data": {
      "application/vnd.jupyter.widget-view+json": {
       "model_id": "49f6597f59264ae0a72fb30135d7f63a",
       "version_major": 2,
       "version_minor": 0
      },
      "text/plain": [
       "Image(value=b'\\x89PNG\\r\\n\\x1a\\n\\x00\\x00\\x00\\rIHDR\\x00\\x00\\x01\\xf8\\x00\\x00\\x01\\xf8\\x08\\x06\\x00\\x00\\x00\\xa6(\\xff…"
      ]
     },
     "metadata": {},
     "output_type": "display_data"
    }
   ],
   "source": [
    "# Run the code in this cell to see the widget\n",
    "from qiskit_textbook.widgets import gate_demo\n",
    "gate_demo()"
   ]
  },
  {
   "cell_type": "code",
   "execution_count": 7,
   "id": "spare-focus",
   "metadata": {},
   "outputs": [
    {
     "data": {
      "text/html": [
       "<img src=\"quantumgates.png\" width=\"800\" height=\"100\"/>"
      ],
      "text/plain": [
       "<IPython.core.display.Image object>"
      ]
     },
     "execution_count": 7,
     "metadata": {},
     "output_type": "execute_result"
    }
   ],
   "source": [
    "#General preview of Applying single qubit gates and it's effect on qubit state\n",
    "from IPython.display import Image\n",
    "Image(url= \"quantumgates.png\", width=800, height=100)"
   ]
  },
  {
   "cell_type": "markdown",
   "id": "novel-threshold",
   "metadata": {},
   "source": [
    "# Understanding qubits in Qiskit\n",
    "## Single qubit Hadamard gate"
   ]
  },
  {
   "cell_type": "markdown",
   "id": "numerous-marker",
   "metadata": {},
   "source": [
    "A Hadamard gates takes a pure |0> or |1> state and moves it to superposition state. \\\n",
    "There is no classical gate equivalent of Hadamard gate. Thus, this gate is purely quantum gate. \\\n",
    "Algebra:\n",
    "$H = \\tfrac{1}{\\sqrt{2}}\\begin{bmatrix} 1 & 1 \\\\ 1 & -1 \\end{bmatrix}$;"
   ]
  },
  {
   "cell_type": "code",
   "execution_count": 8,
   "id": "tribal-bangladesh",
   "metadata": {},
   "outputs": [],
   "source": [
    "simulator_q = Aer.get_backend('qasm_simulator')\n",
    "# statevector simulator executes a single shot of a Qiskit QuantumCircuit & returns final quantum statevector of the simulation\n",
    "simulator_s= Aer.get_backend('statevector_simulator') \n",
    "# Shows equivalent matrix representation\n",
    "simulator_u = Aer.get_backend('unitary_simulator')\n",
    "#Eigenvalue problem\n",
    "# H|psi> = E|psi\n",
    "Ax = \\labmda x\n"
   ]
  },
  {
   "cell_type": "code",
   "execution_count": 9,
   "id": "second-easter",
   "metadata": {},
   "outputs": [
    {
     "data": {
      "image/png": "[encoded data removed]",
      "text/plain": [
       "<Figure size 133.526x144.48 with 1 Axes>"
      ]
     },
     "metadata": {},
     "output_type": "display_data"
    },
    {
     "name": "stdout",
     "output_type": "stream",
     "text": [
      "outputstate:\n",
      " [0.707+0.j 0.707+0.j]\n",
      "UnitaryMatrix:\n",
      " [[ 0.707+0.j  0.707-0.j]\n",
      " [ 0.707+0.j -0.707+0.j]]\n",
      "counts:\n",
      " {'0': 513, '1': 511}\n"
     ]
    },
    {
     "data": {
      "image/png": "[encoded data removed]",
      "text/plain": [
       "<Figure size 504x360 with 1 Axes>"
      ]
     },
     "metadata": {},
     "output_type": "display_data"
    }
   ],
   "source": [
    "circuit = QuantumCircuit(1, 1)\n",
    "circuit.h(0)\n",
    "style = {'backgroundcolor': 'lightgreen'}\n",
    "display (circuit.draw(output='mpl',style=style))\n",
    "#Statevector part\n",
    "result3=execute(circuit,simulator_s).result()\n",
    "outputstate = result3.get_statevector(circuit, decimals=3)\n",
    "print ('outputstate:\\n',(outputstate))\n",
    "#unitary vector part\n",
    "result=execute(circuit,simulator_u).result()\n",
    "unitary=result.get_unitary(circuit)\n",
    "print ('UnitaryMatrix:\\n',(np.round(unitary,3)))\n",
    "#Now Quasm Simulator part where we need to measure\n",
    "circuit.measure(0,0)\n",
    "result2=execute(circuit,simulator_q).result()\n",
    "counts=result2.get_counts(circuit)\n",
    "print (\"counts:\\n\",result2.get_counts(circuit))\n",
    "display (plot_histogram(counts))\n"
   ]
  },
  {
   "cell_type": "markdown",
   "id": "downtown-crisis",
   "metadata": {},
   "source": [
    "\n",
    "$\n",
    "Initial state:|0> \\\\  \n",
    "After: H= \\frac{1}{\\sqrt{2}}|0> + \\frac{1}{\\sqrt{2}}|1> $( You can see this happening from the histrogram plot)$\\\\    \\newline\n",
    "            H = \\frac{1}{\\sqrt{2}} \\begin{bmatrix}\n",
    "    1  & 1 \\\\\n",
    "    1 & -1\n",
    "\\end{bmatrix}\\\\ |1 > = \\begin{bmatrix}\n",
    "    1  \\\\\n",
    "    0\n",
    "\\end{bmatrix} ; |0> = \\begin{bmatrix}\n",
    "    0\\\\\n",
    "    1\n",
    "\\end{bmatrix}$\n",
    "            "
   ]
  },
  {
   "cell_type": "markdown",
   "id": "isolated-courtesy",
   "metadata": {},
   "source": [
    "## Single qubit with Pauli X and H gate"
   ]
  },
  {
   "cell_type": "code",
   "execution_count": 10,
   "id": "searching-american",
   "metadata": {},
   "outputs": [
    {
     "data": {
      "image/png": "[encoded data removed]",
      "text/plain": [
       "<Figure size 193.726x144.48 with 1 Axes>"
      ]
     },
     "metadata": {},
     "output_type": "display_data"
    },
    {
     "name": "stdout",
     "output_type": "stream",
     "text": [
      "outputstate:\n",
      " [ 0.707+0.j -0.707+0.j]\n",
      "UnitaryMatrix:\n",
      " [[ 0.70710678+0.00000000e+00j  0.70710678+8.65956056e-17j]\n",
      " [-0.70710678+8.65956056e-17j  0.70710678+0.00000000e+00j]]\n",
      "counts:\n",
      " {'0': 479, '1': 545}\n"
     ]
    },
    {
     "data": {
      "image/png": "[encoded data removed]",
      "text/plain": [
       "<Figure size 504x360 with 1 Axes>"
      ]
     },
     "metadata": {},
     "output_type": "display_data"
    },
    {
     "data": {
      "image/png": "[encoded data removed]",
      "text/plain": [
       "<Figure size 253.926x144.48 with 1 Axes>"
      ]
     },
     "execution_count": 10,
     "metadata": {},
     "output_type": "execute_result"
    }
   ],
   "source": [
    "circuit = QuantumCircuit(1, 1)\n",
    "circuit.x(0)\n",
    "circuit.h(0)\n",
    "style = {'backgroundcolor': 'lightgreen'}\n",
    "display (circuit.draw(output='mpl',style=style))\n",
    "#Statevector part\n",
    "result3=execute(circuit,simulator_s).result()\n",
    "outputstate = result3.get_statevector(circuit, decimals=3)\n",
    "print ('outputstate:\\n',outputstate)\n",
    "#unitary vector part\n",
    "result=execute(circuit,simulator_u).result()\n",
    "unitary=result.get_unitary(circuit)\n",
    "print ('UnitaryMatrix:\\n',unitary)\n",
    "#Now Quasm Simulator part where we need to measure\n",
    "circuit.measure(0,0)\n",
    "result2=execute(circuit,simulator_q).result()\n",
    "counts=result2.get_counts(circuit)\n",
    "print (\"counts:\\n\",result2.get_counts(circuit))\n",
    "display (plot_histogram(counts))\n",
    "style = {'backgroundcolor': 'lightgreen'}\n",
    "circuit.draw(output='mpl',style=style)"
   ]
  },
  {
   "cell_type": "markdown",
   "id": "verbal-interview",
   "metadata": {},
   "source": [
    "### Let's see this mathematically in terms of Matrix multiplication\n",
    "\n",
    "$ \n",
    "H \\otimes PauliX  =  \\frac{1}{\\sqrt{2}} \\begin{bmatrix}\n",
    "    1  &   1 \\\\\n",
    "    1  &  -1\n",
    "\\end{bmatrix}\\begin{bmatrix}\n",
    "    0  &   1 \\\\\n",
    "    1  &   0\n",
    "\\end{bmatrix}  = \\frac{1}{\\sqrt{2}}\\begin{bmatrix}\n",
    "1 & 1 \\\\\n",
    "-1 & 1\n",
    "\\end{bmatrix}$"
   ]
  },
  {
   "cell_type": "markdown",
   "id": "cooperative-speech",
   "metadata": {},
   "source": [
    "# Two (and more) Qubit gates "
   ]
  },
  {
   "cell_type": "markdown",
   "id": "sound-discovery",
   "metadata": {},
   "source": [
    "## Visualizing Two qubit gates"
   ]
  },
  {
   "cell_type": "code",
   "execution_count": 11,
   "id": "focal-rendering",
   "metadata": {},
   "outputs": [
    {
     "data": {
      "image/png": "[encoded data removed]",
      "text/plain": [
       "<Figure size 267.052x144.48 with 1 Axes>"
      ]
     },
     "metadata": {},
     "output_type": "display_data"
    },
    {
     "data": {
      "image/png": "[encoded data removed]",
      "text/plain": [
       "<Figure size 504x504 with 2 Axes>"
      ]
     },
     "metadata": {},
     "output_type": "display_data"
    },
    {
     "data": {
      "text/latex": [
       "$\\displaystyle \n",
       "\\begin{bmatrix}\n",
       "\\tfrac{1}{\\sqrt{2}}i \\\\\n",
       "0 \\\\\n",
       "0 \\\\\n",
       "-\\tfrac{1}{\\sqrt{2}}i\n",
       "\\end{bmatrix}\n",
       "$"
      ],
      "text/plain": [
       "<IPython.core.display.Math object>"
      ]
     },
     "metadata": {},
     "output_type": "display_data"
    },
    {
     "data": {
      "text/plain": [
       "'In the bloch Sphere we can clearly see phase of each state corresponding to the output state given below.'"
      ]
     },
     "execution_count": 11,
     "metadata": {},
     "output_type": "execute_result"
    }
   ],
   "source": [
    "qc = QuantumCircuit(2)\n",
    "qc.y(0)\n",
    "qc.h(0)   # Apply Hadamard Gate\n",
    "qc.cx(0,1)  # Apply CNOT\n",
    "\n",
    "display(qc.draw('mpl')) #draw quantum circuit\n",
    "\n",
    "final_state = execute(qc,simulator_s).result().get_statevector()\n",
    "display(plot_state_qsphere(final_state))\n",
    "array_to_latex(final_state)\n",
    "\"In the bloch Sphere we can clearly see phase of each state corresponding to the output state given below.\""
   ]
  },
  {
   "cell_type": "markdown",
   "id": "thermal-valentine",
   "metadata": {},
   "source": [
    "### Two qubit gates with H on first qubit"
   ]
  },
  {
   "cell_type": "code",
   "execution_count": 12,
   "id": "universal-midwest",
   "metadata": {},
   "outputs": [
    {
     "name": "stdout",
     "output_type": "stream",
     "text": [
      "outputstate:\n",
      " [0.707+0.j 0.707+0.j 0.   +0.j 0.   +0.j]\n",
      "UnitaryMatrix:\n",
      " [[ 0.707+0.j  0.707-0.j  0.   +0.j  0.   +0.j]\n",
      " [ 0.707+0.j -0.707+0.j  0.   +0.j  0.   +0.j]\n",
      " [ 0.   +0.j  0.   +0.j  0.707+0.j  0.707-0.j]\n",
      " [ 0.   +0.j  0.   +0.j  0.707+0.j -0.707+0.j]]\n",
      "counts:\n",
      " {'01': 498, '00': 526}\n"
     ]
    },
    {
     "data": {
      "image/png": "[encoded data removed]",
      "text/plain": [
       "<Figure size 206.852x204.68 with 1 Axes>"
      ]
     },
     "execution_count": 12,
     "metadata": {},
     "output_type": "execute_result"
    }
   ],
   "source": [
    "circuit = QuantumCircuit(2, 2)\n",
    "circuit.h(0)\n",
    "#Statevector part\n",
    "result3=execute(circuit,simulator_s).result()\n",
    "outputstate = result3.get_statevector(circuit, decimals=3)\n",
    "print ('outputstate:\\n',outputstate)\n",
    "#unitary vector part\n",
    "result=execute(circuit,simulator_u).result()\n",
    "unitary=result.get_unitary(circuit)\n",
    "print ('UnitaryMatrix:\\n',np.round(unitary,3))\n",
    "#Now Quasm Simulator part where we need to measure\n",
    "circuit.measure([0,1],[0,1])\n",
    "result2=execute(circuit,simulator_q).result()\n",
    "print (\"counts:\\n\",result2.get_counts(circuit))\n",
    "style = {'backgroundcolor': 'lightgreen'}\n",
    "circuit.draw(output='mpl',style=style)"
   ]
  },
  {
   "cell_type": "markdown",
   "id": "productive-tournament",
   "metadata": {},
   "source": [
    "\n",
    "Manual Approch to determine Unitary Matrix: \\\n",
    "$I \\otimes H  =  \\begin{bmatrix}\n",
    "    1  &   0 \\\\\n",
    "    0  &   1\n",
    "\\end{bmatrix} \\otimes \\frac{1}{\\sqrt{2}} \\begin{bmatrix}\n",
    "    1  &   1 \\\\\n",
    "    1  &  -1\n",
    "\\end{bmatrix}  = \\frac{1}{\\sqrt{2}}\\begin{bmatrix}\n",
    "1 & 1 & 0 & 0\\\\\n",
    "1 & -1 & 0 & 0\\\\\n",
    "0 & 0 & 1 & 1 \\\\\n",
    "0 & 0 & 1 & -1\n",
    "\\end{bmatrix}$\\\\\n",
    "\n",
    "If the H-gate were on 2nd qubit, It will be:\n",
    "$H \\otimes I  = \\frac{1}{\\sqrt{2}} \\begin{bmatrix}\n",
    "    1  &   1 \\\\\n",
    "    1  &  -1\n",
    "\\end{bmatrix} \\otimes \\begin{bmatrix}\n",
    "    1  &   0 \\\\\n",
    "    0  &   1\n",
    "\\end{bmatrix}  = \\frac{1}{\\sqrt{2}}\\begin{bmatrix}\n",
    "1 & 0 & 1 & 0\\\\\n",
    "0 & 1 & 0 & 1\\\\\n",
    "1 & 0 & -1 & 0 \\\\\n",
    "0 & 1 & 0 & -1\n",
    "\\end{bmatrix}$"
   ]
  },
  {
   "cell_type": "markdown",
   "id": "narrative-department",
   "metadata": {},
   "source": [
    "### Two qubits with single H gate on each qubit"
   ]
  },
  {
   "cell_type": "code",
   "execution_count": 13,
   "id": "explicit-dryer",
   "metadata": {},
   "outputs": [
    {
     "name": "stdout",
     "output_type": "stream",
     "text": [
      "outputstate:\n",
      " [0.5+0.j 0.5+0.j 0.5+0.j 0.5+0.j]\n",
      "UnitaryMatrix:\n",
      " [[ 0.5+0.j  0.5-0.j  0.5-0.j  0.5-0.j]\n",
      " [ 0.5+0.j -0.5+0.j  0.5-0.j -0.5+0.j]\n",
      " [ 0.5+0.j  0.5-0.j -0.5+0.j -0.5+0.j]\n",
      " [ 0.5+0.j -0.5+0.j -0.5+0.j  0.5-0.j]]\n",
      "counts:\n",
      " {'01': 263, '00': 274, '11': 249, '10': 238}\n"
     ]
    },
    {
     "data": {
      "image/png": "[encoded data removed]",
      "text/plain": [
       "<Figure size 267.052x204.68 with 1 Axes>"
      ]
     },
     "execution_count": 13,
     "metadata": {},
     "output_type": "execute_result"
    }
   ],
   "source": [
    "circuit = QuantumCircuit(2, 2)\n",
    "circuit.h(0)\n",
    "circuit.h(1)\n",
    "#Statevector part\n",
    "result3=execute(circuit,simulator_s).result()\n",
    "outputstate = result3.get_statevector(circuit, decimals=3)\n",
    "print ('outputstate:\\n',outputstate)\n",
    "#unitary vector part\n",
    "result=execute(circuit,simulator_u).result()\n",
    "unitary=result.get_unitary(circuit)\n",
    "print ('UnitaryMatrix:\\n',np.round(unitary,3))\n",
    "#Now Quasm Simulator part where we need to measure\n",
    "circuit.measure([0,1],[0,1])\n",
    "result2=execute(circuit,simulator_q).result()\n",
    "print (\"counts:\\n\",result2.get_counts(circuit))\n",
    "style = {'backgroundcolor': 'lightgreen'}\n",
    "circuit.draw(output='mpl',style=style)"
   ]
  },
  {
   "cell_type": "markdown",
   "id": "african-burner",
   "metadata": {},
   "source": [
    "Basis Vectors for 2 qubits are as follows:\\\n",
    "$\n",
    "|00> = \\begin{bmatrix}\n",
    "    1  \\\\\n",
    "    0 \\\\\n",
    "    0\\\\\n",
    "    0\n",
    "\\end{bmatrix} ; |01> = \\begin{bmatrix}\n",
    "    0\\\\\n",
    "    1\\\\\n",
    "    0\\\\\n",
    "    0\n",
    "\\end{bmatrix} ; |10> = \\begin{bmatrix}\n",
    "    0  \\\\\n",
    "    0 \\\\\n",
    "    1\\\\\n",
    "    0\n",
    "\\end{bmatrix} ; |11> = \\begin{bmatrix}\n",
    "    0\\\\\n",
    "    0\\\\\n",
    "    0\\\\\n",
    "    1\n",
    "\\end{bmatrix}$"
   ]
  },
  {
   "cell_type": "markdown",
   "id": "substantial-deficit",
   "metadata": {},
   "source": [
    "This is a tensor product of two Hadamard transform. Lets apply it to |00> \n",
    "$(\\frac{1}{\\sqrt{2}}|0> + \\frac{1}{\\sqrt{2}}|1>) \\otimes (\\frac{1}{\\sqrt{2}}|0> + \\frac{1}{\\sqrt{2}}|1>) = \\frac{1}{{2}}|00> + \\frac{1}{{2}}|01>  +  \\frac{1}{{2}}|10> + \\frac{1}{{2}}|11>$\n",
    "$H_2|00>  = \\frac{1}{2} \\begin{bmatrix}\n",
    "    1  &  1  &  1  &  1 \\\\\n",
    "    1  &  -1  &  1  &  -1 \\\\\n",
    "    1  &  1  &  -1  &  -1 \\\\\n",
    "    1  &  -1  &  -1  &  1 \\\\\n",
    "\\end{bmatrix}\\begin{bmatrix} \n",
    "    1  \\\\\n",
    "    0 \\\\\n",
    "    0\\\\\n",
    "    0\n",
    "    \\end{bmatrix}\n",
    "    = \\begin{bmatrix}\n",
    "    \\frac{1}{2} \\\\\n",
    "    \\frac{1}{2} \\\\\n",
    "    \\frac{1}{2}\\\\\n",
    "    \\frac{1}{2}\n",
    "\\end{bmatrix}$\\\\\n",
    "$\n",
    "=  \\frac{1}{{2}}|00> + \\frac{1}{{2}}|01>  +  \\frac{1}{{2}}|10> + \\frac{1}{{2}}|11>$"
   ]
  },
  {
   "cell_type": "code",
   "execution_count": 14,
   "id": "green-intake",
   "metadata": {},
   "outputs": [
    {
     "name": "stdout",
     "output_type": "stream",
     "text": [
      "outputstate:\n",
      " [ 0.5+0.j -0.5+0.j  0.5+0.j -0.5+0.j]\n",
      "UnitaryMatrix:\n",
      " [[ 0.5+0.j  0.5+0.j  0.5-0.j  0.5-0.j]\n",
      " [-0.5+0.j  0.5+0.j -0.5+0.j  0.5-0.j]\n",
      " [ 0.5+0.j  0.5+0.j -0.5+0.j -0.5+0.j]\n",
      " [-0.5+0.j  0.5+0.j  0.5-0.j -0.5+0.j]]\n",
      "counts:\n",
      " {'00': 261, '11': 249, '01': 247, '10': 267}\n"
     ]
    },
    {
     "data": {
      "image/png": "[encoded data removed]",
      "text/plain": [
       "<Figure size 267.052x204.68 with 1 Axes>"
      ]
     },
     "execution_count": 14,
     "metadata": {},
     "output_type": "execute_result"
    }
   ],
   "source": [
    "# Two qubits with X on first qubit and H on both\n",
    "\n",
    "circuit = QuantumCircuit(2, 2)\n",
    "circuit.x(0)\n",
    "circuit.h(0)\n",
    "circuit.h(1)\n",
    "#Statevector part\n",
    "result3=execute(circuit,simulator_s).result()\n",
    "outputstate = result3.get_statevector(circuit, decimals=3)\n",
    "print ('outputstate:\\n',outputstate)\n",
    "#unitary vector part\n",
    "result=execute(circuit,simulator_u).result()\n",
    "unitary=result.get_unitary(circuit)\n",
    "print ('UnitaryMatrix:\\n',np.round(unitary,3))\n",
    "#Now Quasm Simulator part where we need to measure\n",
    "circuit.measure([0,1],[0,1])\n",
    "result2=execute(circuit,simulator_q).result()\n",
    "print (\"counts:\\n\",result2.get_counts(circuit))\n",
    "style = {'backgroundcolor': 'lightgreen'}\n",
    "circuit.draw(output='mpl',style=style)"
   ]
  },
  {
   "cell_type": "code",
   "execution_count": 15,
   "id": "injured-relaxation",
   "metadata": {},
   "outputs": [],
   "source": [
    "# HW For you: Calculate the equivalent Unitary Matrix of this circuit!"
   ]
  },
  {
   "cell_type": "markdown",
   "id": "after-scoop",
   "metadata": {},
   "source": [
    "# Introduction to CNOT gate (Designing a Bell State)"
   ]
  },
  {
   "cell_type": "raw",
   "id": "spiritual-ticket",
   "metadata": {},
   "source": [
    "The CNOT gate operates on a quantum register consisting of 2 qubits. The CNOT gate flips the second qubit (the target qubit) if and only if the first qubit (the control qubit) is |1>."
   ]
  },
  {
   "cell_type": "markdown",
   "id": "exciting-vietnamese",
   "metadata": {},
   "source": [
    "Truth Table:\n",
    "\n",
    "<style type=\"text/css\">\n",
    ".tg  {border-collapse:collapse;border-spacing:0;}\n",
    ".tg td{border-color:black;border-style:solid;border-width:1px;font-family:Arial, sans-serif;font-size:14px;\n",
    "  overflow:hidden;padding:10px 5px;word-break:normal;}\n",
    ".tg th{border-color:black;border-style:solid;border-width:1px;font-family:Arial, sans-serif;font-size:14px;\n",
    "  font-weight:normal;overflow:hidden;padding:10px 5px;word-break:normal;}\n",
    ".tg .tg-c3ow{border-color:inherit;text-align:center;vertical-align:top}\n",
    "</style>\n",
    "<table class=\"tg\">\n",
    "<thead>\n",
    "  <tr>\n",
    "    <th class=\"tg-c3ow\">(c,t)</th>\n",
    "    <th class=\"tg-c3ow\">CNOT(c,t)</th>\n",
    "  </tr>\n",
    "</thead>\n",
    "<tbody>\n",
    "  <tr>\n",
    "    <td class=\"tg-c3ow\">00</td>\n",
    "    <td class=\"tg-c3ow\">00</td>\n",
    "  </tr>\n",
    "  <tr>\n",
    "    <td class=\"tg-c3ow\">01</td>\n",
    "    <td class=\"tg-c3ow\">01</td>\n",
    "  </tr>\n",
    "  <tr>\n",
    "    <td class=\"tg-c3ow\">10</td>\n",
    "    <td class=\"tg-c3ow\">11</td>\n",
    "  </tr>\n",
    "  <tr>\n",
    "    <td class=\"tg-c3ow\">11</td>\n",
    "    <td class=\"tg-c3ow\">10</td>\n",
    "  </tr>\n",
    "</tbody>\n",
    "</table>"
   ]
  },
  {
   "cell_type": "code",
   "execution_count": 16,
   "id": "rocky-belief",
   "metadata": {},
   "outputs": [
    {
     "name": "stdout",
     "output_type": "stream",
     "text": [
      "outputstate:\n",
      " [0.707+0.j 0.   +0.j 0.   +0.j 0.707+0.j]\n",
      "UnitaryMatrix:\n",
      " [[ 0.707+0.j  0.707-0.j  0.   +0.j  0.   +0.j]\n",
      " [ 0.   +0.j  0.   +0.j  0.707+0.j -0.707+0.j]\n",
      " [ 0.   +0.j  0.   +0.j  0.707+0.j  0.707-0.j]\n",
      " [ 0.707+0.j -0.707+0.j  0.   +0.j  0.   +0.j]]\n",
      "counts:\n",
      " {'00': 493, '11': 531}\n"
     ]
    },
    {
     "data": {
      "image/png": "[encoded data removed]",
      "text/plain": [
       "<Figure size 327.252x204.68 with 1 Axes>"
      ]
     },
     "execution_count": 16,
     "metadata": {},
     "output_type": "execute_result"
    }
   ],
   "source": [
    "circuit = QuantumCircuit(2, 2)\n",
    "circuit.h(0)\n",
    "circuit.cx(0,1)\n",
    "#Statevector part\n",
    "result3=execute(circuit,simulator_s).result()\n",
    "outputstate = result3.get_statevector(circuit, decimals=3)\n",
    "print ('outputstate:\\n',outputstate)\n",
    "#unitary vector part\n",
    "result=execute(circuit,simulator_u).result()\n",
    "unitary=result.get_unitary(circuit)\n",
    "print ('UnitaryMatrix:\\n',np.round(unitary,3))\n",
    "#Now Quasm Simulator part where we need to measure\n",
    "circuit.measure([0,1],[0,1])\n",
    "result2=execute(circuit,simulator_q).result()\n",
    "print (\"counts:\\n\",result2.get_counts(circuit))\n",
    "style = {'backgroundcolor': 'lightgreen'}\n",
    "circuit.draw(output='mpl',style=style)"
   ]
  },
  {
   "cell_type": "markdown",
   "id": "graduate-slovakia",
   "metadata": {},
   "source": [
    "Unitary Operator:\n",
    "\n",
    "Order is CNOT $\\otimes$ H.\n",
    "$=1/\\sqrt{2}\\begin{bmatrix} 1 & 0 & 0 & 0 \\\\\n",
    "                  0 & 0 & 0 & 1 \\\\\n",
    "                  0 & 0 & 1 & 0 \\\\\n",
    "                  0 & 1 & 0 & 0 \\end{bmatrix} \\begin{bmatrix} 1 & 1 & 0 & 0 \\\\\n",
    "                  1 & -1 & 0 & 0 \\\\\n",
    "                  0 & 0 & 1 & 1 \\\\\n",
    "                  0 & 0 & 1 & -1 \\end{bmatrix}=1/\\sqrt{2}\\begin{bmatrix} 1 & 1 & 0 & 0 \\\\\n",
    "                  0 & 0 & 1 & -1 \\\\\n",
    "                  0 & 0 & 1 & 1 \\\\\n",
    "                  1 & -1 & 0 & 0 \\end{bmatrix}$"
   ]
  },
  {
   "cell_type": "markdown",
   "id": "vietnamese-snowboard",
   "metadata": {},
   "source": [
    "This unitary operator operates on the initial state |00> to give final result.\n",
    "$1/\\sqrt{2}\\begin{bmatrix} 1 & 1 & 0 & 0 \\\\\n",
    "                  0 & 0 & 1 & -1 \\\\\n",
    "                  0 & 0 & 1 & 1 \\\\\n",
    "                  1 & -1 & 0 & 0 \\end{bmatrix} \\begin{bmatrix} 1\\\\0\\\\0\\\\0\\\\\n",
    "\\end{bmatrix}=1/\\sqrt{2}\\begin{bmatrix} 1\\\\0\\\\0\\\\1\\\\\n",
    "\\end{bmatrix}$ \\\n",
    "\n",
    "This final matrix is a superposition of two states:\n",
    "$\\frac{1}{\\sqrt{2}}|00> + \\frac{1}{\\sqrt{2}}|11>$\n"
   ]
  },
  {
   "cell_type": "markdown",
   "id": "familiar-craft",
   "metadata": {},
   "source": [
    "Manual approach:\\\n",
    "initial state = |00>\\\n",
    "After application of Hadamard Gate: $\\frac{1}{\\sqrt{2}}|00> + \\frac{1}{\\sqrt{2}}|10>$\n",
    "\n",
    "After application of CNOT Gate: $\\frac{1}{\\sqrt{2}}|00> + \\frac{1}{\\sqrt{2}}|11>$ (Since CNOT flips 0 to 1 if first qubit is 1)"
   ]
  },
  {
   "cell_type": "code",
   "execution_count": 17,
   "id": "magnetic-rubber",
   "metadata": {},
   "outputs": [],
   "source": [
    "# The state above is also known as Bell state. This state is also called entangled state. "
   ]
  },
  {
   "cell_type": "code",
   "execution_count": 18,
   "id": "manual-convention",
   "metadata": {},
   "outputs": [],
   "source": [
    "#HW for you: Apply a X-gate to second qubit in the above circuit. Then Use both matrix multiplication apporach as well as \n",
    "# manual approach to get the result. "
   ]
  },
  {
   "cell_type": "markdown",
   "id": "monetary-insider",
   "metadata": {},
   "source": [
    "# Three qubit gate: Toffoli gate\n",
    "Toffoli gate is a thee qubit gate similar to CNOT gate but with 2 control qubit and one target bit. Similar as CNOT gate, this gate flips the target gate if both of the control qubit is in state '1' otherwise left unchanged.\n",
    "It's truth table is as follows:\n",
    "\n",
    "| C1 \t| C2 \t| T \t| Out1 \t| Out2 \t| Out3 \t|\n",
    "|:--:\t|:--:\t|---\t|------\t|------\t|------\t|\n",
    "|  0 \t|  0 \t| 0 \t| 0    \t| 0    \t| 0    \t|\n",
    "|  0 \t|  0 \t| 1 \t| 0    \t| 0    \t| 1    \t|\n",
    "|  0 \t|  1 \t| 0 \t| 0    \t| 1    \t| 0    \t|\n",
    "|  0 \t|  1 \t| 1 \t| 0    \t| 1    \t| 1    \t|\n",
    "| 1  \t| 0  \t| 0 \t| 1    \t| 0    \t| 0    \t|\n",
    "| 1  \t| 0  \t| 1 \t| 1    \t| 0    \t| 1    \t|\n",
    "| 1  \t| 1  \t| 0 \t| 1    \t| 1    \t| 1    \t|\n",
    "| 1  \t| 1  \t| 1 \t| 1    \t| 1    \t| 0    \t|\n",
    "\n"
   ]
  },
  {
   "cell_type": "code",
   "execution_count": 19,
   "id": "saved-ownership",
   "metadata": {},
   "outputs": [
    {
     "data": {
      "image/png": "[encoded data removed]",
      "text/plain": [
       "<Figure size 206.997x204.68 with 1 Axes>"
      ]
     },
     "metadata": {},
     "output_type": "display_data"
    }
   ],
   "source": [
    "qc = QuantumCircuit(3)\n",
    "\n",
    "qc.x(0)\n",
    "qc.x(1)\n",
    "tempqc = qc.copy()\n",
    "qc.ccx(0,1,2)  # Apply Tofolli gate\n",
    "\n",
    "display(qc.draw('mpl')) #draw quantum circuit\n",
    "\n",
    "final_state = execute(qc,simulator_s).result().get_statevector()\n",
    "initial_state = execute(tempqc,simulator_s).result().get_statevector()"
   ]
  },
  {
   "cell_type": "code",
   "execution_count": 20,
   "id": "fourth-chassis",
   "metadata": {},
   "outputs": [
    {
     "data": {
      "text/latex": [
       "$\\displaystyle \n",
       "Intial state:\\begin{bmatrix}\n",
       "0 \\\\\n",
       "0 \\\\\n",
       "0 \\\\\n",
       "1 \\\\\n",
       "0 \\\\\n",
       "0 \\\\\n",
       "0 \\\\\n",
       "0\n",
       "\\end{bmatrix}\n",
       "$"
      ],
      "text/plain": [
       "<IPython.core.display.Math object>"
      ]
     },
     "metadata": {},
     "output_type": "display_data"
    },
    {
     "data": {
      "text/latex": [
       "$\\displaystyle \n",
       "Final state:\\begin{bmatrix}\n",
       "0 \\\\\n",
       "0 \\\\\n",
       "0 \\\\\n",
       "0 \\\\\n",
       "0 \\\\\n",
       "0 \\\\\n",
       "0 \\\\\n",
       "1\n",
       "\\end{bmatrix}\n",
       "$"
      ],
      "text/plain": [
       "<IPython.core.display.Math object>"
      ]
     },
     "metadata": {},
     "output_type": "display_data"
    }
   ],
   "source": [
    "array_to_latex(initial_state,pretext= \"Intial state:\")\n",
    "array_to_latex(final_state,pretext= \"Final state:\")"
   ]
  },
  {
   "cell_type": "code",
   "execution_count": null,
   "id": "minute-traffic",
   "metadata": {},
   "outputs": [],
   "source": []
  }
 ],
 "metadata": {
  "kernelspec": {
   "display_name": "Python 3",
   "language": "python",
   "name": "python3"
  },
  "language_info": {
   "codemirror_mode": {
    "name": "ipython",
    "version": 3
   },
   "file_extension": ".py",
   "mimetype": "text/x-python",
   "name": "python",
   "nbconvert_exporter": "python",
   "pygments_lexer": "ipython3",
   "version": "3.7.6"
  }
 },
 "nbformat": 4,
 "nbformat_minor": 5
}
